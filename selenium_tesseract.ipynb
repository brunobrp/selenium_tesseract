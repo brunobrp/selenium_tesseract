{
 "cells": [
  {
   "cell_type": "code",
   "execution_count": 2,
   "metadata": {},
   "outputs": [],
   "source": [
    "from selenium import webdriver\n",
    "from time import sleep\n",
    "import os\n",
    "from selenium.webdriver.chrome.options import Options\n",
    "import re\n",
    "import pytesseract\n",
    "PATH = '\\\\\\\\br-saira\\\\BSO-Analytics\\\\12. Pessoal\\\\Bruno\\\\'\n",
    "url = 'https://www.reclameaqui.com.br/empresa/3m-do-brasil/'\n",
    "pytesseract.pytesseract.tesseract_cmd = r'C:\\Program Files\\Tesseract-OCR\\tesseract'\n",
    "n_decimal = re.compile(r'[^\\d.]+')\n",
    "import time\n",
    "\n",
    "###dicionário de indicadores################### \n",
    "dic = [{6:'RA',\n",
    "        8:'NOTA_RA',\n",
    "        15:'RESPONDIDAS',\n",
    "        20:'PERCENT_RESPONDIDAS',\n",
    "        23:'VOLTARIA_FAZER_NEGOCIO',\n",
    "        26:'INDICE_SOLUCAO',\n",
    "        29:'NOTA_CONSUMIDOR'        \n",
    "        }]\n",
    "\n",
    "### ids de busca###############################\n",
    "ids = [6,8,15,20,23,26,29]"
   ]
  },
  {
   "cell_type": "code",
   "execution_count": 332,
   "metadata": {},
   "outputs": [],
   "source": [
    "############passa url para gerar o screenshot##################\n",
    "\n",
    "def get_screenshot(url):\n",
    "    options = webdriver.ChromeOptions()\n",
    "    options.headless = True\n",
    "    driver = webdriver.Chrome(options=options)\n",
    "    URL = url\n",
    "    driver.get(URL)\n",
    "    S = lambda X: driver.execute_script('return document.body.parentNode.scroll'+X)\n",
    "    driver.set_window_size(S('Width'),S('Height')) \n",
    "    time.sleep(5)\n",
    "    driver.find_element_by_id('reputation').screenshot('web_screenshot.png')\n",
    "    image = 'web_screenshot.png'\n",
    "    time.sleep(5)\n",
    "    driver.quit()\n",
    "    return image\n",
    "    \n",
    " ##########gera dataset a partir da imagem printada#############  \n",
    "\n",
    "def indicadores_ra(image):\n",
    "    indicadores_final = []\n",
    "    d = pytesseract.image_to_string(PATH+image)\n",
    "    d= d.split('\\n')\n",
    "    for index in ids:    \n",
    "        ind_nm = n_decimal.sub('', d[index])\n",
    "        indicadores_final.append({'id':index,'ind_nm':dic[0][index],'indic_cd':ind_nm})\n",
    "    indicadores_final = pd.DataFrame(indicadores_final)\n",
    "    return indicadores_final\n",
    "\n",
    "df_final = indicadores_ra(get_screenshot(url))\n",
    "df_final.to_csv('\\\\\\\\BRBIBSOVM\\\\root\\\\database-process\\\\flow-reclame-aqui\\\\df_final_reclame_aqui.csv',sep=';', index=None)"
   ]
  },
  {
   "cell_type": "code",
   "execution_count": 330,
   "metadata": {},
   "outputs": [],
   "source": [
    "df_final.to_csv('\\\\\\\\BRBIBSOVM\\\\root\\\\database-process\\\\flow-reclame-aqui\\\\df_final_reclame_aqui.csv',sep=';', index=None)"
   ]
  },
  {
   "cell_type": "code",
   "execution_count": 334,
   "metadata": {},
   "outputs": [
    {
     "data": {
      "text/plain": [
       "'web_screenshot.png'"
      ]
     },
     "execution_count": 334,
     "metadata": {},
     "output_type": "execute_result"
    }
   ],
   "source": [
    "get_screenshot(url)"
   ]
  },
  {
   "cell_type": "code",
   "execution_count": 335,
   "metadata": {},
   "outputs": [],
   "source": [
    "d = pytesseract.image_to_string('\\\\\\\\br-saira\\\\BSO-Analytics\\\\12. Pessoal\\\\Bruno\\\\web_screenshot.png')"
   ]
  },
  {
   "cell_type": "code",
   "execution_count": 337,
   "metadata": {},
   "outputs": [],
   "source": [
    "d= d.split('\\n')"
   ]
  },
  {
   "cell_type": "code",
   "execution_count": 9,
   "metadata": {},
   "outputs": [],
   "source": [
    "def get_screenshot(url):\n",
    "    options = webdriver.ChromeOptions()\n",
    "    options.headless = True\n",
    "    driver = webdriver.Chrome(options=options)\n",
    "    URL = url\n",
    "    driver.get(URL)\n",
    "    S = lambda X: driver.execute_script('return document.body.parentNode.scroll'+X)\n",
    "    driver.set_window_size(S('Width'),S('Height')) \n",
    "    time.sleep(5)\n",
    "    driver.find_element_by_id('reputation').screenshot('web_screenshot.png')\n",
    "    image = 'web_screenshot.png'\n",
    "    time.sleep(5)\n",
    "    driver.quit()\n",
    "    return image"
   ]
  },
  {
   "cell_type": "code",
   "execution_count": 5,
   "metadata": {},
   "outputs": [],
   "source": [
    "def indicadores_ra(image):\n",
    "    indicadores_final = []\n",
    "    d = pytesseract.image_to_string(PATH+image)\n",
    "    d= d.split('\\n')\n",
    "    for index in ids:    \n",
    "        ind_nm = n_decimal.sub('', d[index])\n",
    "        indicadores_final.append({'id':index,'ind_nm':dic[0][index],'indic_cd':ind_nm})\n",
    "    indicadores_final = pd.DataFrame(indicadores_final)\n",
    "    return indicadores_final\n"
   ]
  }
 ],
 "metadata": {
  "kernelspec": {
   "display_name": "Python 3",
   "language": "python",
   "name": "python3"
  },
  "language_info": {
   "codemirror_mode": {
    "name": "ipython",
    "version": 3
   },
   "file_extension": ".py",
   "mimetype": "text/x-python",
   "name": "python",
   "nbconvert_exporter": "python",
   "pygments_lexer": "ipython3",
   "version": "3.7.1"
  }
 },
 "nbformat": 4,
 "nbformat_minor": 2
}
